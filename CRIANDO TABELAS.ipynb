{
 "cells": [
  {
   "cell_type": "code",
   "execution_count": null,
   "metadata": {},
   "outputs": [],
   "source": [
    "from cartolafc import Api as ApiCartola\n",
    "from tqdm.notebook import tqdm\n",
    "import pandas as pd\n",
    "\n",
    "NUM_RODADAS = 38\n",
    "ARQUIVO_PARTIDAS = 'dados_partidas.csv'\n",
    "ARQUIVO_JOGADORES = 'dados_jogadores.csv'\n",
    "EMAIL = None #Digite seu email\n",
    "PASSWORD = None # Digite sua senha"
   ]
  },
  {
   "cell_type": "code",
   "execution_count": 2,
   "metadata": {},
   "outputs": [],
   "source": [
    "api_carola = ApiCartola(email=EMAIL, password=PASSWORD)"
   ]
  },
  {
   "cell_type": "code",
   "execution_count": 7,
   "metadata": {},
   "outputs": [],
   "source": [
    "def descobre_rodada_atual(df_partidas):\n",
    "    return int(df_partidas[df_partidas['placar_casa']!=-1].rodada.max()) + 1\n",
    "\n",
    "def cria_tabela_de_partidas(api_carola):\n",
    "    lista_todas_partidas = []\n",
    "    for rodada in tqdm(range(1,NUM_RODADAS+1)):\n",
    "        lista_partidas = api_carola.partidas(rodada)\n",
    "        for partida in lista_partidas:\n",
    "            partida_formatada = {\n",
    "                'clube_casa_id': partida.clube_casa.id,\n",
    "                'clube_visitant_id': partida.clube_visitante.id,\n",
    "                'clube_casa_nome': partida.clube_casa.nome,\n",
    "                'clube_visitant_nome': partida.clube_visitante.nome,\n",
    "                'placar_casa': partida.placar_casa,\n",
    "                'placar_visitante': partida.placar_visitante,\n",
    "                'rodada': rodada\n",
    "            }\n",
    "            lista_todas_partidas.append(partida_formatada)\n",
    "            \n",
    "    df_partidas = pd.DataFrame(lista_todas_partidas)\n",
    "    \n",
    "    # Partidas sem resultados colocamos com o -1 os placares\n",
    "    df_partidas = df_partidas.fillna(-1)\n",
    "    df_partidas.to_csv(ARQUIVO_PARTIDAS)\n",
    "    print('NOVO ARQUIVO DE PARTIDAS CRIADO')\n",
    "    return df_partidas\n",
    "\n",
    "def cria_tabela_jogadores():\n",
    "    lista_mercado_atletas_formatado = []\n",
    "    lista_mercado_atletas = api_carola.mercado_atletas()\n",
    "    for jogador in tqdm(lista_mercado_atletas):\n",
    "        lista_pontuacao = api_carola.pontuacao_atleta(jogador.id)\n",
    "        for pontuacao in lista_pontuacao:\n",
    "            dict_jogador = {\n",
    "                'apelido': jogador.apelido,\n",
    "                'clube_id': jogador.clube.id,\n",
    "                'clube_nome': jogador.clube.nome,\n",
    "                'jogador_id': jogador.id,\n",
    "                'posicao_id': jogador.posicao.id,\n",
    "                'posicao_nome':jogador.posicao.nome,\n",
    "                'status_id': jogador.status.id,\n",
    "                'status_nome':jogador.status.nome,\n",
    "                'scout': jogador.scout,\n",
    "                'rodada': pontuacao.rodada_id,\n",
    "                'pontos': pontuacao.pontos,\n",
    "                'preco': pontuacao.preco,\n",
    "                'variacao': pontuacao.variacao,\n",
    "                'media': pontuacao.media\n",
    "            }\n",
    "            lista_mercado_atletas_formatado.append(dict_jogador)\n",
    "    df_jogadores = pd.DataFrame(lista_mercado_atletas_formatado)\n",
    "    df_jogadores.to_csv(ARQUIVO_JOGADORES)\n",
    "    print('NOVO ARQUIVO DE PARTIDAS CRIADO')\n",
    "        \n",
    "    return df_jogadores"
   ]
  },
  {
   "cell_type": "code",
   "execution_count": 4,
   "metadata": {},
   "outputs": [],
   "source": [
    "try:\n",
    "    df_partidas = pd.read_csv(ARQUIVO_PARTIDAS)\n",
    "except:\n",
    "    df_partidas = cria_tabela_de_partidas(api_carola)"
   ]
  },
  {
   "cell_type": "code",
   "execution_count": 5,
   "metadata": {},
   "outputs": [],
   "source": [
    "rodada_atual = descobre_rodada_atual(df_partidas)"
   ]
  },
  {
   "cell_type": "code",
   "execution_count": 8,
   "metadata": {},
   "outputs": [
    {
     "data": {
      "application/vnd.jupyter.widget-view+json": {
       "model_id": "82fd374638794fc6a1a6656852dbcfa4",
       "version_major": 2,
       "version_minor": 0
      },
      "text/plain": [
       "HBox(children=(FloatProgress(value=0.0, max=719.0), HTML(value='')))"
      ]
     },
     "metadata": {},
     "output_type": "display_data"
    },
    {
     "name": "stdout",
     "output_type": "stream",
     "text": [
      "\n",
      "NOVO ARQUIVO DE PARTIDAS CRIADO\n"
     ]
    }
   ],
   "source": [
    "try:\n",
    "    df_jogadores = pd.read_csv(ARQUIVO_JOGADORES)\n",
    "    aa\n",
    "except:\n",
    "    df_jogadores = cria_tabela_jogadores()"
   ]
  },
  {
   "cell_type": "code",
   "execution_count": 9,
   "metadata": {},
   "outputs": [
    {
     "data": {
      "text/plain": [
       "8628"
      ]
     },
     "execution_count": 9,
     "metadata": {},
     "output_type": "execute_result"
    }
   ],
   "source": [
    "len(df_jogadores)"
   ]
  }
 ],
 "metadata": {
  "kernelspec": {
   "display_name": "Python 3",
   "language": "python",
   "name": "python3"
  },
  "language_info": {
   "codemirror_mode": {
    "name": "ipython",
    "version": 3
   },
   "file_extension": ".py",
   "mimetype": "text/x-python",
   "name": "python",
   "nbconvert_exporter": "python",
   "pygments_lexer": "ipython3",
   "version": "3.6.10"
  }
 },
 "nbformat": 4,
 "nbformat_minor": 4
}
